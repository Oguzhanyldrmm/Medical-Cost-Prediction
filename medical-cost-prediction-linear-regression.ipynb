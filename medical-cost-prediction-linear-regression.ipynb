{
 "cells": [
  {
   "cell_type": "markdown",
   "id": "502ce8ad",
   "metadata": {
    "papermill": {
     "duration": 0.009259,
     "end_time": "2023-04-07T18:09:18.171758",
     "exception": false,
     "start_time": "2023-04-07T18:09:18.162499",
     "status": "completed"
    },
    "tags": []
   },
   "source": [
    "**Medical Cost Prediction**\n"
   ]
  },
  {
   "cell_type": "code",
   "execution_count": 1,
   "id": "36ec3d6d",
   "metadata": {
    "execution": {
     "iopub.execute_input": "2023-04-07T18:09:18.191026Z",
     "iopub.status.busy": "2023-04-07T18:09:18.190450Z",
     "iopub.status.idle": "2023-04-07T18:09:18.205060Z",
     "shell.execute_reply": "2023-04-07T18:09:18.203523Z"
    },
    "papermill": {
     "duration": 0.027843,
     "end_time": "2023-04-07T18:09:18.207973",
     "exception": false,
     "start_time": "2023-04-07T18:09:18.180130",
     "status": "completed"
    },
    "tags": []
   },
   "outputs": [],
   "source": [
    "#importing libraries\n",
    "import pandas as pd\n",
    "import numpy as np\n",
    "import matplotlib.pyplot as plt"
   ]
  },
  {
   "cell_type": "markdown",
   "id": "3fe95165",
   "metadata": {
    "papermill": {
     "duration": 0.007413,
     "end_time": "2023-04-07T18:09:18.223159",
     "exception": false,
     "start_time": "2023-04-07T18:09:18.215746",
     "status": "completed"
    },
    "tags": []
   },
   "source": [
    "**Step 1: Reading and Understanding the Data**\n",
    "\n",
    "Let's start with the following steps:\n",
    "\n",
    "    1.Importing data using the pandas library\n",
    "    2.Understanding the structure of the data"
   ]
  },
  {
   "cell_type": "code",
   "execution_count": 2,
   "id": "3cb2c8ae",
   "metadata": {
    "execution": {
     "iopub.execute_input": "2023-04-07T18:09:18.240875Z",
     "iopub.status.busy": "2023-04-07T18:09:18.240246Z",
     "iopub.status.idle": "2023-04-07T18:09:18.292793Z",
     "shell.execute_reply": "2023-04-07T18:09:18.291412Z"
    },
    "papermill": {
     "duration": 0.064497,
     "end_time": "2023-04-07T18:09:18.295378",
     "exception": false,
     "start_time": "2023-04-07T18:09:18.230881",
     "status": "completed"
    },
    "tags": []
   },
   "outputs": [
    {
     "data": {
      "text/html": [
       "<div>\n",
       "<style scoped>\n",
       "    .dataframe tbody tr th:only-of-type {\n",
       "        vertical-align: middle;\n",
       "    }\n",
       "\n",
       "    .dataframe tbody tr th {\n",
       "        vertical-align: top;\n",
       "    }\n",
       "\n",
       "    .dataframe thead th {\n",
       "        text-align: right;\n",
       "    }\n",
       "</style>\n",
       "<table border=\"1\" class=\"dataframe\">\n",
       "  <thead>\n",
       "    <tr style=\"text-align: right;\">\n",
       "      <th></th>\n",
       "      <th>age</th>\n",
       "      <th>sex</th>\n",
       "      <th>bmi</th>\n",
       "      <th>children</th>\n",
       "      <th>smoker</th>\n",
       "      <th>region</th>\n",
       "      <th>charges</th>\n",
       "    </tr>\n",
       "  </thead>\n",
       "  <tbody>\n",
       "    <tr>\n",
       "      <th>0</th>\n",
       "      <td>19</td>\n",
       "      <td>female</td>\n",
       "      <td>27.900</td>\n",
       "      <td>0</td>\n",
       "      <td>yes</td>\n",
       "      <td>southwest</td>\n",
       "      <td>16884.92400</td>\n",
       "    </tr>\n",
       "    <tr>\n",
       "      <th>1</th>\n",
       "      <td>18</td>\n",
       "      <td>male</td>\n",
       "      <td>33.770</td>\n",
       "      <td>1</td>\n",
       "      <td>no</td>\n",
       "      <td>southeast</td>\n",
       "      <td>1725.55230</td>\n",
       "    </tr>\n",
       "    <tr>\n",
       "      <th>2</th>\n",
       "      <td>28</td>\n",
       "      <td>male</td>\n",
       "      <td>33.000</td>\n",
       "      <td>3</td>\n",
       "      <td>no</td>\n",
       "      <td>southeast</td>\n",
       "      <td>4449.46200</td>\n",
       "    </tr>\n",
       "    <tr>\n",
       "      <th>3</th>\n",
       "      <td>33</td>\n",
       "      <td>male</td>\n",
       "      <td>22.705</td>\n",
       "      <td>0</td>\n",
       "      <td>no</td>\n",
       "      <td>northwest</td>\n",
       "      <td>21984.47061</td>\n",
       "    </tr>\n",
       "    <tr>\n",
       "      <th>4</th>\n",
       "      <td>32</td>\n",
       "      <td>male</td>\n",
       "      <td>28.880</td>\n",
       "      <td>0</td>\n",
       "      <td>no</td>\n",
       "      <td>northwest</td>\n",
       "      <td>3866.85520</td>\n",
       "    </tr>\n",
       "  </tbody>\n",
       "</table>\n",
       "</div>"
      ],
      "text/plain": [
       "   age     sex     bmi  children smoker     region      charges\n",
       "0   19  female  27.900         0    yes  southwest  16884.92400\n",
       "1   18    male  33.770         1     no  southeast   1725.55230\n",
       "2   28    male  33.000         3     no  southeast   4449.46200\n",
       "3   33    male  22.705         0     no  northwest  21984.47061\n",
       "4   32    male  28.880         0     no  northwest   3866.85520"
      ]
     },
     "execution_count": 2,
     "metadata": {},
     "output_type": "execute_result"
    }
   ],
   "source": [
    "data = pd.read_csv('/kaggle/input/insurance/insurance.csv')\n",
    "data.head()"
   ]
  },
  {
   "cell_type": "code",
   "execution_count": 3,
   "id": "a7740d14",
   "metadata": {
    "execution": {
     "iopub.execute_input": "2023-04-07T18:09:18.313286Z",
     "iopub.status.busy": "2023-04-07T18:09:18.312577Z",
     "iopub.status.idle": "2023-04-07T18:09:18.320471Z",
     "shell.execute_reply": "2023-04-07T18:09:18.319327Z"
    },
    "papermill": {
     "duration": 0.020296,
     "end_time": "2023-04-07T18:09:18.323607",
     "exception": false,
     "start_time": "2023-04-07T18:09:18.303311",
     "status": "completed"
    },
    "tags": []
   },
   "outputs": [
    {
     "data": {
      "text/plain": [
       "(1338, 7)"
      ]
     },
     "execution_count": 3,
     "metadata": {},
     "output_type": "execute_result"
    }
   ],
   "source": [
    "data.shape"
   ]
  },
  {
   "cell_type": "code",
   "execution_count": 4,
   "id": "c4269ddb",
   "metadata": {
    "execution": {
     "iopub.execute_input": "2023-04-07T18:09:18.341834Z",
     "iopub.status.busy": "2023-04-07T18:09:18.341362Z",
     "iopub.status.idle": "2023-04-07T18:09:18.380945Z",
     "shell.execute_reply": "2023-04-07T18:09:18.378974Z"
    },
    "papermill": {
     "duration": 0.052553,
     "end_time": "2023-04-07T18:09:18.384439",
     "exception": false,
     "start_time": "2023-04-07T18:09:18.331886",
     "status": "completed"
    },
    "tags": []
   },
   "outputs": [
    {
     "data": {
      "text/html": [
       "<div>\n",
       "<style scoped>\n",
       "    .dataframe tbody tr th:only-of-type {\n",
       "        vertical-align: middle;\n",
       "    }\n",
       "\n",
       "    .dataframe tbody tr th {\n",
       "        vertical-align: top;\n",
       "    }\n",
       "\n",
       "    .dataframe thead th {\n",
       "        text-align: right;\n",
       "    }\n",
       "</style>\n",
       "<table border=\"1\" class=\"dataframe\">\n",
       "  <thead>\n",
       "    <tr style=\"text-align: right;\">\n",
       "      <th></th>\n",
       "      <th>age</th>\n",
       "      <th>bmi</th>\n",
       "      <th>children</th>\n",
       "      <th>charges</th>\n",
       "    </tr>\n",
       "  </thead>\n",
       "  <tbody>\n",
       "    <tr>\n",
       "      <th>count</th>\n",
       "      <td>1338.000000</td>\n",
       "      <td>1338.000000</td>\n",
       "      <td>1338.000000</td>\n",
       "      <td>1338.000000</td>\n",
       "    </tr>\n",
       "    <tr>\n",
       "      <th>mean</th>\n",
       "      <td>39.207025</td>\n",
       "      <td>30.663397</td>\n",
       "      <td>1.094918</td>\n",
       "      <td>13270.422265</td>\n",
       "    </tr>\n",
       "    <tr>\n",
       "      <th>std</th>\n",
       "      <td>14.049960</td>\n",
       "      <td>6.098187</td>\n",
       "      <td>1.205493</td>\n",
       "      <td>12110.011237</td>\n",
       "    </tr>\n",
       "    <tr>\n",
       "      <th>min</th>\n",
       "      <td>18.000000</td>\n",
       "      <td>15.960000</td>\n",
       "      <td>0.000000</td>\n",
       "      <td>1121.873900</td>\n",
       "    </tr>\n",
       "    <tr>\n",
       "      <th>25%</th>\n",
       "      <td>27.000000</td>\n",
       "      <td>26.296250</td>\n",
       "      <td>0.000000</td>\n",
       "      <td>4740.287150</td>\n",
       "    </tr>\n",
       "    <tr>\n",
       "      <th>50%</th>\n",
       "      <td>39.000000</td>\n",
       "      <td>30.400000</td>\n",
       "      <td>1.000000</td>\n",
       "      <td>9382.033000</td>\n",
       "    </tr>\n",
       "    <tr>\n",
       "      <th>75%</th>\n",
       "      <td>51.000000</td>\n",
       "      <td>34.693750</td>\n",
       "      <td>2.000000</td>\n",
       "      <td>16639.912515</td>\n",
       "    </tr>\n",
       "    <tr>\n",
       "      <th>max</th>\n",
       "      <td>64.000000</td>\n",
       "      <td>53.130000</td>\n",
       "      <td>5.000000</td>\n",
       "      <td>63770.428010</td>\n",
       "    </tr>\n",
       "  </tbody>\n",
       "</table>\n",
       "</div>"
      ],
      "text/plain": [
       "               age          bmi     children       charges\n",
       "count  1338.000000  1338.000000  1338.000000   1338.000000\n",
       "mean     39.207025    30.663397     1.094918  13270.422265\n",
       "std      14.049960     6.098187     1.205493  12110.011237\n",
       "min      18.000000    15.960000     0.000000   1121.873900\n",
       "25%      27.000000    26.296250     0.000000   4740.287150\n",
       "50%      39.000000    30.400000     1.000000   9382.033000\n",
       "75%      51.000000    34.693750     2.000000  16639.912515\n",
       "max      64.000000    53.130000     5.000000  63770.428010"
      ]
     },
     "execution_count": 4,
     "metadata": {},
     "output_type": "execute_result"
    }
   ],
   "source": [
    "data.describe()"
   ]
  },
  {
   "cell_type": "code",
   "execution_count": 5,
   "id": "7ca17944",
   "metadata": {
    "execution": {
     "iopub.execute_input": "2023-04-07T18:09:18.403619Z",
     "iopub.status.busy": "2023-04-07T18:09:18.403215Z",
     "iopub.status.idle": "2023-04-07T18:09:18.424959Z",
     "shell.execute_reply": "2023-04-07T18:09:18.423466Z"
    },
    "papermill": {
     "duration": 0.034417,
     "end_time": "2023-04-07T18:09:18.427572",
     "exception": false,
     "start_time": "2023-04-07T18:09:18.393155",
     "status": "completed"
    },
    "tags": []
   },
   "outputs": [
    {
     "name": "stdout",
     "output_type": "stream",
     "text": [
      "<class 'pandas.core.frame.DataFrame'>\n",
      "RangeIndex: 1338 entries, 0 to 1337\n",
      "Data columns (total 7 columns):\n",
      " #   Column    Non-Null Count  Dtype  \n",
      "---  ------    --------------  -----  \n",
      " 0   age       1338 non-null   int64  \n",
      " 1   sex       1338 non-null   object \n",
      " 2   bmi       1338 non-null   float64\n",
      " 3   children  1338 non-null   int64  \n",
      " 4   smoker    1338 non-null   object \n",
      " 5   region    1338 non-null   object \n",
      " 6   charges   1338 non-null   float64\n",
      "dtypes: float64(2), int64(2), object(3)\n",
      "memory usage: 73.3+ KB\n"
     ]
    }
   ],
   "source": [
    "data.info()"
   ]
  },
  {
   "cell_type": "code",
   "execution_count": 6,
   "id": "6fca625f",
   "metadata": {
    "execution": {
     "iopub.execute_input": "2023-04-07T18:09:18.447881Z",
     "iopub.status.busy": "2023-04-07T18:09:18.447426Z",
     "iopub.status.idle": "2023-04-07T18:09:18.456590Z",
     "shell.execute_reply": "2023-04-07T18:09:18.455196Z"
    },
    "papermill": {
     "duration": 0.023258,
     "end_time": "2023-04-07T18:09:18.459607",
     "exception": false,
     "start_time": "2023-04-07T18:09:18.436349",
     "status": "completed"
    },
    "tags": []
   },
   "outputs": [
    {
     "data": {
      "text/plain": [
       "array(['southwest', 'southeast', 'northwest', 'northeast'], dtype=object)"
      ]
     },
     "execution_count": 6,
     "metadata": {},
     "output_type": "execute_result"
    }
   ],
   "source": [
    "data.region.unique()"
   ]
  },
  {
   "cell_type": "code",
   "execution_count": 7,
   "id": "4b6cb16d",
   "metadata": {
    "execution": {
     "iopub.execute_input": "2023-04-07T18:09:18.480799Z",
     "iopub.status.busy": "2023-04-07T18:09:18.480249Z",
     "iopub.status.idle": "2023-04-07T18:09:18.500631Z",
     "shell.execute_reply": "2023-04-07T18:09:18.499515Z"
    },
    "papermill": {
     "duration": 0.033174,
     "end_time": "2023-04-07T18:09:18.503127",
     "exception": false,
     "start_time": "2023-04-07T18:09:18.469953",
     "status": "completed"
    },
    "tags": []
   },
   "outputs": [
    {
     "data": {
      "text/html": [
       "<div>\n",
       "<style scoped>\n",
       "    .dataframe tbody tr th:only-of-type {\n",
       "        vertical-align: middle;\n",
       "    }\n",
       "\n",
       "    .dataframe tbody tr th {\n",
       "        vertical-align: top;\n",
       "    }\n",
       "\n",
       "    .dataframe thead th {\n",
       "        text-align: right;\n",
       "    }\n",
       "</style>\n",
       "<table border=\"1\" class=\"dataframe\">\n",
       "  <thead>\n",
       "    <tr style=\"text-align: right;\">\n",
       "      <th></th>\n",
       "      <th>age</th>\n",
       "      <th>sex</th>\n",
       "      <th>bmi</th>\n",
       "      <th>children</th>\n",
       "      <th>smoker</th>\n",
       "      <th>region</th>\n",
       "      <th>charges</th>\n",
       "    </tr>\n",
       "  </thead>\n",
       "  <tbody>\n",
       "    <tr>\n",
       "      <th>581</th>\n",
       "      <td>19</td>\n",
       "      <td>male</td>\n",
       "      <td>30.59</td>\n",
       "      <td>0</td>\n",
       "      <td>no</td>\n",
       "      <td>northwest</td>\n",
       "      <td>1639.5631</td>\n",
       "    </tr>\n",
       "  </tbody>\n",
       "</table>\n",
       "</div>"
      ],
      "text/plain": [
       "     age   sex    bmi  children smoker     region    charges\n",
       "581   19  male  30.59         0     no  northwest  1639.5631"
      ]
     },
     "execution_count": 7,
     "metadata": {},
     "output_type": "execute_result"
    }
   ],
   "source": [
    "#Checking for duplicates\n",
    "data.loc[data.duplicated()]"
   ]
  },
  {
   "cell_type": "code",
   "execution_count": 8,
   "id": "dec17500",
   "metadata": {
    "execution": {
     "iopub.execute_input": "2023-04-07T18:09:18.522546Z",
     "iopub.status.busy": "2023-04-07T18:09:18.521815Z",
     "iopub.status.idle": "2023-04-07T18:09:18.527903Z",
     "shell.execute_reply": "2023-04-07T18:09:18.526935Z"
    },
    "papermill": {
     "duration": 0.018576,
     "end_time": "2023-04-07T18:09:18.530372",
     "exception": false,
     "start_time": "2023-04-07T18:09:18.511796",
     "status": "completed"
    },
    "tags": []
   },
   "outputs": [],
   "source": [
    "#We found that index 581 example is duplicated so we should delete\n",
    "data = data.drop(581)"
   ]
  },
  {
   "cell_type": "code",
   "execution_count": 9,
   "id": "2f91c5e2",
   "metadata": {
    "execution": {
     "iopub.execute_input": "2023-04-07T18:09:18.552792Z",
     "iopub.status.busy": "2023-04-07T18:09:18.551470Z",
     "iopub.status.idle": "2023-04-07T18:09:18.566147Z",
     "shell.execute_reply": "2023-04-07T18:09:18.564633Z"
    },
    "papermill": {
     "duration": 0.027518,
     "end_time": "2023-04-07T18:09:18.569024",
     "exception": false,
     "start_time": "2023-04-07T18:09:18.541506",
     "status": "completed"
    },
    "tags": []
   },
   "outputs": [
    {
     "data": {
      "text/html": [
       "<div>\n",
       "<style scoped>\n",
       "    .dataframe tbody tr th:only-of-type {\n",
       "        vertical-align: middle;\n",
       "    }\n",
       "\n",
       "    .dataframe tbody tr th {\n",
       "        vertical-align: top;\n",
       "    }\n",
       "\n",
       "    .dataframe thead th {\n",
       "        text-align: right;\n",
       "    }\n",
       "</style>\n",
       "<table border=\"1\" class=\"dataframe\">\n",
       "  <thead>\n",
       "    <tr style=\"text-align: right;\">\n",
       "      <th></th>\n",
       "      <th>age</th>\n",
       "      <th>sex</th>\n",
       "      <th>bmi</th>\n",
       "      <th>children</th>\n",
       "      <th>smoker</th>\n",
       "      <th>region</th>\n",
       "      <th>charges</th>\n",
       "    </tr>\n",
       "  </thead>\n",
       "  <tbody>\n",
       "  </tbody>\n",
       "</table>\n",
       "</div>"
      ],
      "text/plain": [
       "Empty DataFrame\n",
       "Columns: [age, sex, bmi, children, smoker, region, charges]\n",
       "Index: []"
      ]
     },
     "execution_count": 9,
     "metadata": {},
     "output_type": "execute_result"
    }
   ],
   "source": [
    "#Checking again\n",
    "data.loc[data.duplicated()]"
   ]
  },
  {
   "cell_type": "code",
   "execution_count": 10,
   "id": "d260150d",
   "metadata": {
    "execution": {
     "iopub.execute_input": "2023-04-07T18:09:18.588924Z",
     "iopub.status.busy": "2023-04-07T18:09:18.588419Z",
     "iopub.status.idle": "2023-04-07T18:09:18.597224Z",
     "shell.execute_reply": "2023-04-07T18:09:18.596050Z"
    },
    "papermill": {
     "duration": 0.022084,
     "end_time": "2023-04-07T18:09:18.599870",
     "exception": false,
     "start_time": "2023-04-07T18:09:18.577786",
     "status": "completed"
    },
    "tags": []
   },
   "outputs": [
    {
     "data": {
      "text/plain": [
       "Index(['age', 'sex', 'bmi', 'children', 'smoker', 'region', 'charges'], dtype='object')"
      ]
     },
     "execution_count": 10,
     "metadata": {},
     "output_type": "execute_result"
    }
   ],
   "source": [
    "data.columns"
   ]
  },
  {
   "cell_type": "code",
   "execution_count": 11,
   "id": "35557142",
   "metadata": {
    "execution": {
     "iopub.execute_input": "2023-04-07T18:09:18.620611Z",
     "iopub.status.busy": "2023-04-07T18:09:18.619404Z",
     "iopub.status.idle": "2023-04-07T18:09:18.627193Z",
     "shell.execute_reply": "2023-04-07T18:09:18.626121Z"
    },
    "papermill": {
     "duration": 0.020818,
     "end_time": "2023-04-07T18:09:18.629751",
     "exception": false,
     "start_time": "2023-04-07T18:09:18.608933",
     "status": "completed"
    },
    "tags": []
   },
   "outputs": [],
   "source": [
    "#Converting categoric values to numeric values\n",
    "data['sex'] = data['sex'].astype('category')\n",
    "data['sex'] = data['sex'].cat.codes"
   ]
  },
  {
   "cell_type": "code",
   "execution_count": 12,
   "id": "61a98469",
   "metadata": {
    "execution": {
     "iopub.execute_input": "2023-04-07T18:09:18.650395Z",
     "iopub.status.busy": "2023-04-07T18:09:18.649123Z",
     "iopub.status.idle": "2023-04-07T18:09:18.663210Z",
     "shell.execute_reply": "2023-04-07T18:09:18.662065Z"
    },
    "papermill": {
     "duration": 0.026928,
     "end_time": "2023-04-07T18:09:18.665800",
     "exception": false,
     "start_time": "2023-04-07T18:09:18.638872",
     "status": "completed"
    },
    "tags": []
   },
   "outputs": [
    {
     "data": {
      "text/html": [
       "<div>\n",
       "<style scoped>\n",
       "    .dataframe tbody tr th:only-of-type {\n",
       "        vertical-align: middle;\n",
       "    }\n",
       "\n",
       "    .dataframe tbody tr th {\n",
       "        vertical-align: top;\n",
       "    }\n",
       "\n",
       "    .dataframe thead th {\n",
       "        text-align: right;\n",
       "    }\n",
       "</style>\n",
       "<table border=\"1\" class=\"dataframe\">\n",
       "  <thead>\n",
       "    <tr style=\"text-align: right;\">\n",
       "      <th></th>\n",
       "      <th>age</th>\n",
       "      <th>sex</th>\n",
       "      <th>bmi</th>\n",
       "      <th>children</th>\n",
       "      <th>smoker</th>\n",
       "      <th>region</th>\n",
       "      <th>charges</th>\n",
       "    </tr>\n",
       "  </thead>\n",
       "  <tbody>\n",
       "    <tr>\n",
       "      <th>0</th>\n",
       "      <td>19</td>\n",
       "      <td>0</td>\n",
       "      <td>27.900</td>\n",
       "      <td>0</td>\n",
       "      <td>yes</td>\n",
       "      <td>southwest</td>\n",
       "      <td>16884.92400</td>\n",
       "    </tr>\n",
       "    <tr>\n",
       "      <th>1</th>\n",
       "      <td>18</td>\n",
       "      <td>1</td>\n",
       "      <td>33.770</td>\n",
       "      <td>1</td>\n",
       "      <td>no</td>\n",
       "      <td>southeast</td>\n",
       "      <td>1725.55230</td>\n",
       "    </tr>\n",
       "    <tr>\n",
       "      <th>2</th>\n",
       "      <td>28</td>\n",
       "      <td>1</td>\n",
       "      <td>33.000</td>\n",
       "      <td>3</td>\n",
       "      <td>no</td>\n",
       "      <td>southeast</td>\n",
       "      <td>4449.46200</td>\n",
       "    </tr>\n",
       "    <tr>\n",
       "      <th>3</th>\n",
       "      <td>33</td>\n",
       "      <td>1</td>\n",
       "      <td>22.705</td>\n",
       "      <td>0</td>\n",
       "      <td>no</td>\n",
       "      <td>northwest</td>\n",
       "      <td>21984.47061</td>\n",
       "    </tr>\n",
       "    <tr>\n",
       "      <th>4</th>\n",
       "      <td>32</td>\n",
       "      <td>1</td>\n",
       "      <td>28.880</td>\n",
       "      <td>0</td>\n",
       "      <td>no</td>\n",
       "      <td>northwest</td>\n",
       "      <td>3866.85520</td>\n",
       "    </tr>\n",
       "  </tbody>\n",
       "</table>\n",
       "</div>"
      ],
      "text/plain": [
       "   age  sex     bmi  children smoker     region      charges\n",
       "0   19    0  27.900         0    yes  southwest  16884.92400\n",
       "1   18    1  33.770         1     no  southeast   1725.55230\n",
       "2   28    1  33.000         3     no  southeast   4449.46200\n",
       "3   33    1  22.705         0     no  northwest  21984.47061\n",
       "4   32    1  28.880         0     no  northwest   3866.85520"
      ]
     },
     "execution_count": 12,
     "metadata": {},
     "output_type": "execute_result"
    }
   ],
   "source": [
    "data.head()"
   ]
  },
  {
   "cell_type": "code",
   "execution_count": 13,
   "id": "6bf31536",
   "metadata": {
    "execution": {
     "iopub.execute_input": "2023-04-07T18:09:18.686496Z",
     "iopub.status.busy": "2023-04-07T18:09:18.685472Z",
     "iopub.status.idle": "2023-04-07T18:09:18.695560Z",
     "shell.execute_reply": "2023-04-07T18:09:18.694113Z"
    },
    "papermill": {
     "duration": 0.023498,
     "end_time": "2023-04-07T18:09:18.698446",
     "exception": false,
     "start_time": "2023-04-07T18:09:18.674948",
     "status": "completed"
    },
    "tags": []
   },
   "outputs": [],
   "source": [
    "data['smoker'] = data['smoker'].astype('category')\n",
    "data['smoker'] = data['smoker'].cat.codes\n",
    "\n",
    "data['region'] = data['region'].astype('category')\n",
    "data['region'] = data['region'].cat.codes"
   ]
  },
  {
   "cell_type": "code",
   "execution_count": 14,
   "id": "2afe78d2",
   "metadata": {
    "execution": {
     "iopub.execute_input": "2023-04-07T18:09:18.720959Z",
     "iopub.status.busy": "2023-04-07T18:09:18.719609Z",
     "iopub.status.idle": "2023-04-07T18:09:18.740646Z",
     "shell.execute_reply": "2023-04-07T18:09:18.739198Z"
    },
    "papermill": {
     "duration": 0.035418,
     "end_time": "2023-04-07T18:09:18.743332",
     "exception": false,
     "start_time": "2023-04-07T18:09:18.707914",
     "status": "completed"
    },
    "tags": []
   },
   "outputs": [
    {
     "data": {
      "text/html": [
       "<div>\n",
       "<style scoped>\n",
       "    .dataframe tbody tr th:only-of-type {\n",
       "        vertical-align: middle;\n",
       "    }\n",
       "\n",
       "    .dataframe tbody tr th {\n",
       "        vertical-align: top;\n",
       "    }\n",
       "\n",
       "    .dataframe thead th {\n",
       "        text-align: right;\n",
       "    }\n",
       "</style>\n",
       "<table border=\"1\" class=\"dataframe\">\n",
       "  <thead>\n",
       "    <tr style=\"text-align: right;\">\n",
       "      <th></th>\n",
       "      <th>age</th>\n",
       "      <th>sex</th>\n",
       "      <th>bmi</th>\n",
       "      <th>children</th>\n",
       "      <th>smoker</th>\n",
       "      <th>region</th>\n",
       "      <th>charges</th>\n",
       "    </tr>\n",
       "  </thead>\n",
       "  <tbody>\n",
       "    <tr>\n",
       "      <th>0</th>\n",
       "      <td>19</td>\n",
       "      <td>0</td>\n",
       "      <td>27.900</td>\n",
       "      <td>0</td>\n",
       "      <td>1</td>\n",
       "      <td>3</td>\n",
       "      <td>16884.92400</td>\n",
       "    </tr>\n",
       "    <tr>\n",
       "      <th>1</th>\n",
       "      <td>18</td>\n",
       "      <td>1</td>\n",
       "      <td>33.770</td>\n",
       "      <td>1</td>\n",
       "      <td>0</td>\n",
       "      <td>2</td>\n",
       "      <td>1725.55230</td>\n",
       "    </tr>\n",
       "    <tr>\n",
       "      <th>2</th>\n",
       "      <td>28</td>\n",
       "      <td>1</td>\n",
       "      <td>33.000</td>\n",
       "      <td>3</td>\n",
       "      <td>0</td>\n",
       "      <td>2</td>\n",
       "      <td>4449.46200</td>\n",
       "    </tr>\n",
       "    <tr>\n",
       "      <th>3</th>\n",
       "      <td>33</td>\n",
       "      <td>1</td>\n",
       "      <td>22.705</td>\n",
       "      <td>0</td>\n",
       "      <td>0</td>\n",
       "      <td>1</td>\n",
       "      <td>21984.47061</td>\n",
       "    </tr>\n",
       "    <tr>\n",
       "      <th>4</th>\n",
       "      <td>32</td>\n",
       "      <td>1</td>\n",
       "      <td>28.880</td>\n",
       "      <td>0</td>\n",
       "      <td>0</td>\n",
       "      <td>1</td>\n",
       "      <td>3866.85520</td>\n",
       "    </tr>\n",
       "    <tr>\n",
       "      <th>...</th>\n",
       "      <td>...</td>\n",
       "      <td>...</td>\n",
       "      <td>...</td>\n",
       "      <td>...</td>\n",
       "      <td>...</td>\n",
       "      <td>...</td>\n",
       "      <td>...</td>\n",
       "    </tr>\n",
       "    <tr>\n",
       "      <th>1333</th>\n",
       "      <td>50</td>\n",
       "      <td>1</td>\n",
       "      <td>30.970</td>\n",
       "      <td>3</td>\n",
       "      <td>0</td>\n",
       "      <td>1</td>\n",
       "      <td>10600.54830</td>\n",
       "    </tr>\n",
       "    <tr>\n",
       "      <th>1334</th>\n",
       "      <td>18</td>\n",
       "      <td>0</td>\n",
       "      <td>31.920</td>\n",
       "      <td>0</td>\n",
       "      <td>0</td>\n",
       "      <td>0</td>\n",
       "      <td>2205.98080</td>\n",
       "    </tr>\n",
       "    <tr>\n",
       "      <th>1335</th>\n",
       "      <td>18</td>\n",
       "      <td>0</td>\n",
       "      <td>36.850</td>\n",
       "      <td>0</td>\n",
       "      <td>0</td>\n",
       "      <td>2</td>\n",
       "      <td>1629.83350</td>\n",
       "    </tr>\n",
       "    <tr>\n",
       "      <th>1336</th>\n",
       "      <td>21</td>\n",
       "      <td>0</td>\n",
       "      <td>25.800</td>\n",
       "      <td>0</td>\n",
       "      <td>0</td>\n",
       "      <td>3</td>\n",
       "      <td>2007.94500</td>\n",
       "    </tr>\n",
       "    <tr>\n",
       "      <th>1337</th>\n",
       "      <td>61</td>\n",
       "      <td>0</td>\n",
       "      <td>29.070</td>\n",
       "      <td>0</td>\n",
       "      <td>1</td>\n",
       "      <td>1</td>\n",
       "      <td>29141.36030</td>\n",
       "    </tr>\n",
       "  </tbody>\n",
       "</table>\n",
       "<p>1337 rows × 7 columns</p>\n",
       "</div>"
      ],
      "text/plain": [
       "      age  sex     bmi  children  smoker  region      charges\n",
       "0      19    0  27.900         0       1       3  16884.92400\n",
       "1      18    1  33.770         1       0       2   1725.55230\n",
       "2      28    1  33.000         3       0       2   4449.46200\n",
       "3      33    1  22.705         0       0       1  21984.47061\n",
       "4      32    1  28.880         0       0       1   3866.85520\n",
       "...   ...  ...     ...       ...     ...     ...          ...\n",
       "1333   50    1  30.970         3       0       1  10600.54830\n",
       "1334   18    0  31.920         0       0       0   2205.98080\n",
       "1335   18    0  36.850         0       0       2   1629.83350\n",
       "1336   21    0  25.800         0       0       3   2007.94500\n",
       "1337   61    0  29.070         0       1       1  29141.36030\n",
       "\n",
       "[1337 rows x 7 columns]"
      ]
     },
     "execution_count": 14,
     "metadata": {},
     "output_type": "execute_result"
    }
   ],
   "source": [
    "data"
   ]
  },
  {
   "cell_type": "code",
   "execution_count": 15,
   "id": "9a71f187",
   "metadata": {
    "execution": {
     "iopub.execute_input": "2023-04-07T18:09:18.765093Z",
     "iopub.status.busy": "2023-04-07T18:09:18.764357Z",
     "iopub.status.idle": "2023-04-07T18:09:18.776663Z",
     "shell.execute_reply": "2023-04-07T18:09:18.775242Z"
    },
    "papermill": {
     "duration": 0.027081,
     "end_time": "2023-04-07T18:09:18.779625",
     "exception": false,
     "start_time": "2023-04-07T18:09:18.752544",
     "status": "completed"
    },
    "tags": []
   },
   "outputs": [
    {
     "data": {
      "text/plain": [
       "age         0\n",
       "sex         0\n",
       "bmi         0\n",
       "children    0\n",
       "smoker      0\n",
       "region      0\n",
       "charges     0\n",
       "dtype: int64"
      ]
     },
     "execution_count": 15,
     "metadata": {},
     "output_type": "execute_result"
    }
   ],
   "source": [
    "#Checking if any null values exist\n",
    "data.isnull().sum()"
   ]
  },
  {
   "cell_type": "markdown",
   "id": "bafb8809",
   "metadata": {
    "papermill": {
     "duration": 0.010673,
     "end_time": "2023-04-07T18:09:18.800588",
     "exception": false,
     "start_time": "2023-04-07T18:09:18.789915",
     "status": "completed"
    },
    "tags": []
   },
   "source": [
    "**Step 2: Creating Model**"
   ]
  },
  {
   "cell_type": "code",
   "execution_count": 16,
   "id": "8ff66a38",
   "metadata": {
    "execution": {
     "iopub.execute_input": "2023-04-07T18:09:18.822567Z",
     "iopub.status.busy": "2023-04-07T18:09:18.822112Z",
     "iopub.status.idle": "2023-04-07T18:09:18.846319Z",
     "shell.execute_reply": "2023-04-07T18:09:18.845131Z"
    },
    "papermill": {
     "duration": 0.038218,
     "end_time": "2023-04-07T18:09:18.849332",
     "exception": false,
     "start_time": "2023-04-07T18:09:18.811114",
     "status": "completed"
    },
    "tags": []
   },
   "outputs": [
    {
     "data": {
      "text/html": [
       "<div>\n",
       "<style scoped>\n",
       "    .dataframe tbody tr th:only-of-type {\n",
       "        vertical-align: middle;\n",
       "    }\n",
       "\n",
       "    .dataframe tbody tr th {\n",
       "        vertical-align: top;\n",
       "    }\n",
       "\n",
       "    .dataframe thead th {\n",
       "        text-align: right;\n",
       "    }\n",
       "</style>\n",
       "<table border=\"1\" class=\"dataframe\">\n",
       "  <thead>\n",
       "    <tr style=\"text-align: right;\">\n",
       "      <th></th>\n",
       "      <th>age</th>\n",
       "      <th>sex</th>\n",
       "      <th>bmi</th>\n",
       "      <th>children</th>\n",
       "      <th>smoker</th>\n",
       "      <th>region</th>\n",
       "    </tr>\n",
       "  </thead>\n",
       "  <tbody>\n",
       "    <tr>\n",
       "      <th>0</th>\n",
       "      <td>19</td>\n",
       "      <td>0</td>\n",
       "      <td>27.900</td>\n",
       "      <td>0</td>\n",
       "      <td>1</td>\n",
       "      <td>3</td>\n",
       "    </tr>\n",
       "    <tr>\n",
       "      <th>1</th>\n",
       "      <td>18</td>\n",
       "      <td>1</td>\n",
       "      <td>33.770</td>\n",
       "      <td>1</td>\n",
       "      <td>0</td>\n",
       "      <td>2</td>\n",
       "    </tr>\n",
       "    <tr>\n",
       "      <th>2</th>\n",
       "      <td>28</td>\n",
       "      <td>1</td>\n",
       "      <td>33.000</td>\n",
       "      <td>3</td>\n",
       "      <td>0</td>\n",
       "      <td>2</td>\n",
       "    </tr>\n",
       "    <tr>\n",
       "      <th>3</th>\n",
       "      <td>33</td>\n",
       "      <td>1</td>\n",
       "      <td>22.705</td>\n",
       "      <td>0</td>\n",
       "      <td>0</td>\n",
       "      <td>1</td>\n",
       "    </tr>\n",
       "    <tr>\n",
       "      <th>4</th>\n",
       "      <td>32</td>\n",
       "      <td>1</td>\n",
       "      <td>28.880</td>\n",
       "      <td>0</td>\n",
       "      <td>0</td>\n",
       "      <td>1</td>\n",
       "    </tr>\n",
       "    <tr>\n",
       "      <th>...</th>\n",
       "      <td>...</td>\n",
       "      <td>...</td>\n",
       "      <td>...</td>\n",
       "      <td>...</td>\n",
       "      <td>...</td>\n",
       "      <td>...</td>\n",
       "    </tr>\n",
       "    <tr>\n",
       "      <th>1333</th>\n",
       "      <td>50</td>\n",
       "      <td>1</td>\n",
       "      <td>30.970</td>\n",
       "      <td>3</td>\n",
       "      <td>0</td>\n",
       "      <td>1</td>\n",
       "    </tr>\n",
       "    <tr>\n",
       "      <th>1334</th>\n",
       "      <td>18</td>\n",
       "      <td>0</td>\n",
       "      <td>31.920</td>\n",
       "      <td>0</td>\n",
       "      <td>0</td>\n",
       "      <td>0</td>\n",
       "    </tr>\n",
       "    <tr>\n",
       "      <th>1335</th>\n",
       "      <td>18</td>\n",
       "      <td>0</td>\n",
       "      <td>36.850</td>\n",
       "      <td>0</td>\n",
       "      <td>0</td>\n",
       "      <td>2</td>\n",
       "    </tr>\n",
       "    <tr>\n",
       "      <th>1336</th>\n",
       "      <td>21</td>\n",
       "      <td>0</td>\n",
       "      <td>25.800</td>\n",
       "      <td>0</td>\n",
       "      <td>0</td>\n",
       "      <td>3</td>\n",
       "    </tr>\n",
       "    <tr>\n",
       "      <th>1337</th>\n",
       "      <td>61</td>\n",
       "      <td>0</td>\n",
       "      <td>29.070</td>\n",
       "      <td>0</td>\n",
       "      <td>1</td>\n",
       "      <td>1</td>\n",
       "    </tr>\n",
       "  </tbody>\n",
       "</table>\n",
       "<p>1337 rows × 6 columns</p>\n",
       "</div>"
      ],
      "text/plain": [
       "      age  sex     bmi  children  smoker  region\n",
       "0      19    0  27.900         0       1       3\n",
       "1      18    1  33.770         1       0       2\n",
       "2      28    1  33.000         3       0       2\n",
       "3      33    1  22.705         0       0       1\n",
       "4      32    1  28.880         0       0       1\n",
       "...   ...  ...     ...       ...     ...     ...\n",
       "1333   50    1  30.970         3       0       1\n",
       "1334   18    0  31.920         0       0       0\n",
       "1335   18    0  36.850         0       0       2\n",
       "1336   21    0  25.800         0       0       3\n",
       "1337   61    0  29.070         0       1       1\n",
       "\n",
       "[1337 rows x 6 columns]"
      ]
     },
     "execution_count": 16,
     "metadata": {},
     "output_type": "execute_result"
    }
   ],
   "source": [
    "x = data.drop(columns = 'charges')\n",
    "x"
   ]
  },
  {
   "cell_type": "code",
   "execution_count": 17,
   "id": "c82da170",
   "metadata": {
    "execution": {
     "iopub.execute_input": "2023-04-07T18:09:18.870748Z",
     "iopub.status.busy": "2023-04-07T18:09:18.870308Z",
     "iopub.status.idle": "2023-04-07T18:09:18.876346Z",
     "shell.execute_reply": "2023-04-07T18:09:18.875005Z"
    },
    "papermill": {
     "duration": 0.020228,
     "end_time": "2023-04-07T18:09:18.879362",
     "exception": false,
     "start_time": "2023-04-07T18:09:18.859134",
     "status": "completed"
    },
    "tags": []
   },
   "outputs": [],
   "source": [
    "y = data['charges']"
   ]
  },
  {
   "cell_type": "code",
   "execution_count": 18,
   "id": "e5a2d717",
   "metadata": {
    "execution": {
     "iopub.execute_input": "2023-04-07T18:09:18.901677Z",
     "iopub.status.busy": "2023-04-07T18:09:18.900764Z",
     "iopub.status.idle": "2023-04-07T18:09:20.238370Z",
     "shell.execute_reply": "2023-04-07T18:09:20.236650Z"
    },
    "papermill": {
     "duration": 1.351728,
     "end_time": "2023-04-07T18:09:20.241472",
     "exception": false,
     "start_time": "2023-04-07T18:09:18.889744",
     "status": "completed"
    },
    "tags": []
   },
   "outputs": [],
   "source": [
    "from sklearn.model_selection import train_test_split\n",
    "x_train,x_test,y_train,y_test = train_test_split(x,y,test_size =0.2,random_state =0)"
   ]
  },
  {
   "cell_type": "code",
   "execution_count": 19,
   "id": "8f352f98",
   "metadata": {
    "execution": {
     "iopub.execute_input": "2023-04-07T18:09:20.265815Z",
     "iopub.status.busy": "2023-04-07T18:09:20.264252Z",
     "iopub.status.idle": "2023-04-07T18:09:20.374489Z",
     "shell.execute_reply": "2023-04-07T18:09:20.372994Z"
    },
    "papermill": {
     "duration": 0.126411,
     "end_time": "2023-04-07T18:09:20.377932",
     "exception": false,
     "start_time": "2023-04-07T18:09:20.251521",
     "status": "completed"
    },
    "tags": []
   },
   "outputs": [],
   "source": [
    "from sklearn.linear_model import LinearRegression\n",
    "model = LinearRegression()"
   ]
  },
  {
   "cell_type": "code",
   "execution_count": 20,
   "id": "d1bd9a79",
   "metadata": {
    "execution": {
     "iopub.execute_input": "2023-04-07T18:09:20.401262Z",
     "iopub.status.busy": "2023-04-07T18:09:20.400812Z",
     "iopub.status.idle": "2023-04-07T18:09:20.433646Z",
     "shell.execute_reply": "2023-04-07T18:09:20.432141Z"
    },
    "papermill": {
     "duration": 0.048738,
     "end_time": "2023-04-07T18:09:20.436725",
     "exception": false,
     "start_time": "2023-04-07T18:09:20.387987",
     "status": "completed"
    },
    "tags": []
   },
   "outputs": [
    {
     "data": {
      "text/plain": [
       "LinearRegression()"
      ]
     },
     "execution_count": 20,
     "metadata": {},
     "output_type": "execute_result"
    }
   ],
   "source": [
    "model.fit(x_train,y_train)"
   ]
  },
  {
   "cell_type": "code",
   "execution_count": 21,
   "id": "63bf603b",
   "metadata": {
    "execution": {
     "iopub.execute_input": "2023-04-07T18:09:20.460004Z",
     "iopub.status.busy": "2023-04-07T18:09:20.458840Z",
     "iopub.status.idle": "2023-04-07T18:09:20.466170Z",
     "shell.execute_reply": "2023-04-07T18:09:20.465208Z"
    },
    "papermill": {
     "duration": 0.021202,
     "end_time": "2023-04-07T18:09:20.468736",
     "exception": false,
     "start_time": "2023-04-07T18:09:20.447534",
     "status": "completed"
    },
    "tags": []
   },
   "outputs": [
    {
     "data": {
      "text/plain": [
       "-10658.974155442058"
      ]
     },
     "execution_count": 21,
     "metadata": {},
     "output_type": "execute_result"
    }
   ],
   "source": [
    "b = model.intercept_\n",
    "b"
   ]
  },
  {
   "cell_type": "code",
   "execution_count": 22,
   "id": "dbac56ca",
   "metadata": {
    "execution": {
     "iopub.execute_input": "2023-04-07T18:09:20.492146Z",
     "iopub.status.busy": "2023-04-07T18:09:20.490688Z",
     "iopub.status.idle": "2023-04-07T18:09:20.499543Z",
     "shell.execute_reply": "2023-04-07T18:09:20.497745Z"
    },
    "papermill": {
     "duration": 0.023205,
     "end_time": "2023-04-07T18:09:20.502535",
     "exception": false,
     "start_time": "2023-04-07T18:09:20.479330",
     "status": "completed"
    },
    "tags": []
   },
   "outputs": [
    {
     "data": {
      "text/plain": [
       "array([  244.40254189,  -203.81680641,   308.01805142,   495.56546634,\n",
       "       23771.78167483,  -377.96465113])"
      ]
     },
     "execution_count": 22,
     "metadata": {},
     "output_type": "execute_result"
    }
   ],
   "source": [
    "w = model.coef_\n",
    "w"
   ]
  },
  {
   "cell_type": "code",
   "execution_count": 23,
   "id": "80b4ea48",
   "metadata": {
    "execution": {
     "iopub.execute_input": "2023-04-07T18:09:20.525731Z",
     "iopub.status.busy": "2023-04-07T18:09:20.525273Z",
     "iopub.status.idle": "2023-04-07T18:09:20.536317Z",
     "shell.execute_reply": "2023-04-07T18:09:20.534921Z"
    },
    "papermill": {
     "duration": 0.026455,
     "end_time": "2023-04-07T18:09:20.539289",
     "exception": false,
     "start_time": "2023-04-07T18:09:20.512834",
     "status": "completed"
    },
    "tags": []
   },
   "outputs": [
    {
     "data": {
      "text/plain": [
       "array([30787.46959393,  3385.58700018, 31020.21886095, ...,\n",
       "        7946.07752068,  4346.77404975, 11216.43142885])"
      ]
     },
     "execution_count": 23,
     "metadata": {},
     "output_type": "execute_result"
    }
   ],
   "source": [
    "y_pred_train = model.predict(x_train)\n",
    "\n",
    "y_pred_train"
   ]
  },
  {
   "cell_type": "code",
   "execution_count": 24,
   "id": "f22a9617",
   "metadata": {
    "execution": {
     "iopub.execute_input": "2023-04-07T18:09:20.561715Z",
     "iopub.status.busy": "2023-04-07T18:09:20.561284Z",
     "iopub.status.idle": "2023-04-07T18:09:20.827467Z",
     "shell.execute_reply": "2023-04-07T18:09:20.825919Z"
    },
    "papermill": {
     "duration": 0.280888,
     "end_time": "2023-04-07T18:09:20.830393",
     "exception": false,
     "start_time": "2023-04-07T18:09:20.549505",
     "status": "completed"
    },
    "tags": []
   },
   "outputs": [
    {
     "data": {
      "image/png": "[encoded data removed]",
      "text/plain": [
       "<Figure size 640x480 with 1 Axes>"
      ]
     },
     "metadata": {},
     "output_type": "display_data"
    }
   ],
   "source": [
    "#Comparing y_train vs predicted y_train\n",
    "plt.scatter(y_train,y_pred_train)\n",
    "plt.xlabel(\"Actual Charges\")\n",
    "plt.ylabel(\"Predicted Charges\")\n",
    "plt.show()"
   ]
  },
  {
   "cell_type": "code",
   "execution_count": 25,
   "id": "7cee4658",
   "metadata": {
    "execution": {
     "iopub.execute_input": "2023-04-07T18:09:20.854602Z",
     "iopub.status.busy": "2023-04-07T18:09:20.854169Z",
     "iopub.status.idle": "2023-04-07T18:09:20.864111Z",
     "shell.execute_reply": "2023-04-07T18:09:20.862676Z"
    },
    "papermill": {
     "duration": 0.025547,
     "end_time": "2023-04-07T18:09:20.867107",
     "exception": false,
     "start_time": "2023-04-07T18:09:20.841560",
     "status": "completed"
    },
    "tags": []
   },
   "outputs": [
    {
     "data": {
      "text/plain": [
       "0.7487799749798774"
      ]
     },
     "execution_count": 25,
     "metadata": {},
     "output_type": "execute_result"
    }
   ],
   "source": [
    "#R^2 score means that our model how well predict\n",
    "from sklearn.metrics import r2_score\n",
    "r2_score(y_train,y_pred_train)\n",
    "#It is approximately 75% estimated correctly!"
   ]
  },
  {
   "cell_type": "code",
   "execution_count": 26,
   "id": "3327abb4",
   "metadata": {
    "execution": {
     "iopub.execute_input": "2023-04-07T18:09:20.893772Z",
     "iopub.status.busy": "2023-04-07T18:09:20.893170Z",
     "iopub.status.idle": "2023-04-07T18:09:20.901081Z",
     "shell.execute_reply": "2023-04-07T18:09:20.899730Z"
    },
    "papermill": {
     "duration": 0.024722,
     "end_time": "2023-04-07T18:09:20.903498",
     "exception": false,
     "start_time": "2023-04-07T18:09:20.878776",
     "status": "completed"
    },
    "tags": []
   },
   "outputs": [],
   "source": [
    "#This time trying with testing data\n",
    "y_pred_test = model.predict(x_test)"
   ]
  },
  {
   "cell_type": "code",
   "execution_count": 27,
   "id": "4f885fe5",
   "metadata": {
    "execution": {
     "iopub.execute_input": "2023-04-07T18:09:20.927833Z",
     "iopub.status.busy": "2023-04-07T18:09:20.927223Z",
     "iopub.status.idle": "2023-04-07T18:09:21.154837Z",
     "shell.execute_reply": "2023-04-07T18:09:21.153388Z"
    },
    "papermill": {
     "duration": 0.242946,
     "end_time": "2023-04-07T18:09:21.157954",
     "exception": false,
     "start_time": "2023-04-07T18:09:20.915008",
     "status": "completed"
    },
    "tags": []
   },
   "outputs": [
    {
     "data": {
      "image/png": "[encoded data removed]",
      "text/plain": [
       "<Figure size 640x480 with 1 Axes>"
      ]
     },
     "metadata": {},
     "output_type": "display_data"
    }
   ],
   "source": [
    "#Comparing y_test vs predicted y_test\n",
    "plt.scatter(y_test,y_pred_test)\n",
    "plt.xlabel(\"Actual Charges\")\n",
    "plt.ylabel(\"Predicted Charges\")\n",
    "plt.show()"
   ]
  },
  {
   "cell_type": "code",
   "execution_count": 28,
   "id": "8d855044",
   "metadata": {
    "execution": {
     "iopub.execute_input": "2023-04-07T18:09:21.182999Z",
     "iopub.status.busy": "2023-04-07T18:09:21.182533Z",
     "iopub.status.idle": "2023-04-07T18:09:21.191631Z",
     "shell.execute_reply": "2023-04-07T18:09:21.190190Z"
    },
    "papermill": {
     "duration": 0.024357,
     "end_time": "2023-04-07T18:09:21.194179",
     "exception": false,
     "start_time": "2023-04-07T18:09:21.169822",
     "status": "completed"
    },
    "tags": []
   },
   "outputs": [
    {
     "data": {
      "text/plain": [
       "0.7526726290709553"
      ]
     },
     "execution_count": 28,
     "metadata": {},
     "output_type": "execute_result"
    }
   ],
   "source": [
    "#As you see, our train set and test set accuracy is so similar. \n",
    "#Also when you look two graph, you can see again\n",
    "r2_score(y_test,y_pred_test)\n"
   ]
  },
  {
   "cell_type": "code",
   "execution_count": null,
   "id": "bc76c1e7",
   "metadata": {
    "papermill": {
     "duration": 0.010883,
     "end_time": "2023-04-07T18:09:21.216678",
     "exception": false,
     "start_time": "2023-04-07T18:09:21.205795",
     "status": "completed"
    },
    "tags": []
   },
   "outputs": [],
   "source": []
  }
 ],
 "metadata": {
  "kernelspec": {
   "display_name": "Python 3",
   "language": "python",
   "name": "python3"
  },
  "language_info": {
   "codemirror_mode": {
    "name": "ipython",
    "version": 3
   },
   "file_extension": ".py",
   "mimetype": "text/x-python",
   "name": "python",
   "nbconvert_exporter": "python",
   "pygments_lexer": "ipython3",
   "version": "3.7.12"
  },
  "papermill": {
   "default_parameters": {},
   "duration": 15.328717,
   "end_time": "2023-04-07T18:09:22.052505",
   "environment_variables": {},
   "exception": null,
   "input_path": "__notebook__.ipynb",
   "output_path": "__notebook__.ipynb",
   "parameters": {},
   "start_time": "2023-04-07T18:09:06.723788",
   "version": "2.4.0"
  }
 },
 "nbformat": 4,
 "nbformat_minor": 5
}
